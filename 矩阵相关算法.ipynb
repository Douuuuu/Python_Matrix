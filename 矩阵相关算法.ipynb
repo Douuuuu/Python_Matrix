{
 "cells": [
  {
   "cell_type": "code",
   "execution_count": 1,
   "id": "ceeb0a81",
   "metadata": {},
   "outputs": [],
   "source": [
    "#矩阵输入函数\n",
    "\n",
    "def matrix_input():#返回一个矩阵\n",
    "    nm_str=input(\"请输入矩阵的行数与列数，以空格分隔，回车结束\")\n",
    "    n=int(nm_str.split(' ')[0])\n",
    "    m=int(nm_str.split(' ')[1])\n",
    "    numbers_str=input(\"请输入矩阵的数据，以空格分隔，回车结束\")\n",
    "    numbers=[]\n",
    "    for i in range(n*m):\n",
    "        numbers.append(int(numbers_str.split(' ')[i]))\n",
    "    pack=[numbers[x:x+m] for x in range(0,n*m,m)]\n",
    "    return pack"
   ]
  },
  {
   "cell_type": "code",
   "execution_count": 2,
   "id": "b9778be7",
   "metadata": {},
   "outputs": [
    {
     "data": {
      "text/plain": [
       "[[8, 10, 12], [14, 16, 18]]"
      ]
     },
     "execution_count": 2,
     "metadata": {},
     "output_type": "execute_result"
    }
   ],
   "source": [
    "#二维列表(矩阵)逐位相加函数\n",
    "'''\n",
    "a，b为二维列表（矩阵）\n",
    "返回一个新的二维列表（矩阵）\n",
    "'''\n",
    "\n",
    "def matrix_add2(a,b):\n",
    "    sum_result=[a[i][j]+b[i][j] for i in range(len(a)) for j in range(len(b[0])) ]\n",
    "    pack=[sum_result[x:x+len(a[0])] for x in range(0,len(sum_result),len(a[0]))]\n",
    "    return pack\n",
    "\n",
    "'''\n",
    "以下为实例\n",
    "'''\n",
    "\n",
    "a=[[1,2,3],\n",
    "   [4,5,6]]\n",
    "b=[[7,8,9],\n",
    "   [10,11,12]]\n",
    "new_matrix= matrix_add2(a,b)\n",
    "new_matrix"
   ]
  },
  {
   "cell_type": "code",
   "execution_count": 3,
   "id": "cfcc624e",
   "metadata": {},
   "outputs": [
    {
     "data": {
      "text/plain": [
       "[[[8, 8], [10, 10], [12, 12]], [[14, 14], [16, 16], [18, 18]]]"
      ]
     },
     "execution_count": 3,
     "metadata": {},
     "output_type": "execute_result"
    }
   ],
   "source": [
    "#三维列表逐位相加函数\n",
    "'''\n",
    "a,b为三维列表\n",
    "返回相加结果三维列表\n",
    "'''\n",
    "\n",
    "def matrix_add3(a,b):\n",
    "    sum_result=[a[i][j][k]+b[i][j][k] for i in range(len(a)) for j in range(len(a[0])) for k in range(len(a[0][0]))]\n",
    "    pack1=[sum_result[x:x+len(a[0][0])] for x in range(0,len(sum_result),len(a[0][0]))]\n",
    "    pack2=[pack1[y:y+len(a[0])] for y in range(0,len(pack1),len(a[0]))]  \n",
    "    return pack2\n",
    "\n",
    "\n",
    "'''\n",
    "以下为实例\n",
    "'''\n",
    "\n",
    "a=[[[1,1],[2,2],[3,3]],\n",
    "   [[4,4],[5,5],[6,6]]]\n",
    "b=[[[7,7],[8,8],[9,9]],\n",
    "   [[10,10],[11,11],[12,12]]]\n",
    "new_matrix= matrix_add3(a,b)\n",
    "new_matrix"
   ]
  },
  {
   "cell_type": "code",
   "execution_count": 4,
   "id": "e7fa9747",
   "metadata": {},
   "outputs": [
    {
     "data": {
      "text/plain": [
       "[[-19, -9], [-1, -7]]"
      ]
     },
     "execution_count": 4,
     "metadata": {},
     "output_type": "execute_result"
    }
   ],
   "source": [
    "#矩阵相乘函数\n",
    "'''\n",
    "a,b为矩阵，返回相乘后的矩阵\n",
    "'''\n",
    "def matrix_by(a,b):#a,b为矩阵\n",
    "    n1=len(a)\n",
    "    m1=len(a[0])\n",
    "    n2=len(b)\n",
    "    m2=len(b[0])\n",
    "    sum=0\n",
    "    if m1!=n2:\n",
    "        print(\"Can't run this alogrithm\")\n",
    "        return 0\n",
    "    by_result=[0 for i in range(n1) for j in range(m2)]\n",
    "    pack=[by_result[x:x+m2] for x in range(0,n1*m2,m2)]\n",
    "    for i in range(n1):\n",
    "        for j in range(m2):\n",
    "            sum=0\n",
    "            for k in range(n2):\n",
    "                sum+=a[i][k]*b[k][j]\n",
    "            pack[i][j]=sum\n",
    "    return pack\n",
    "\n",
    "'''\n",
    "以下为实例\n",
    "'''\n",
    "a=[[5,-2,1],[3,4,-1]]\n",
    "b=[[-3,-2],[2,0],[0,1]]\n",
    "matrix_by(a,b)"
   ]
  },
  {
   "cell_type": "code",
   "execution_count": null,
   "id": "54f31cf8",
   "metadata": {},
   "outputs": [],
   "source": []
  }
 ],
 "metadata": {
  "kernelspec": {
   "display_name": "Python 3",
   "language": "python",
   "name": "python3"
  },
  "language_info": {
   "codemirror_mode": {
    "name": "ipython",
    "version": 3
   },
   "file_extension": ".py",
   "mimetype": "text/x-python",
   "name": "python",
   "nbconvert_exporter": "python",
   "pygments_lexer": "ipython3",
   "version": "3.9.5"
  }
 },
 "nbformat": 4,
 "nbformat_minor": 5
}
